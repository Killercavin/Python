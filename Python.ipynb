{
 "cells": [
  {
   "cell_type": "code",
   "execution_count": 1,
   "metadata": {},
   "outputs": [
    {
     "name": "stdout",
     "output_type": "stream",
     "text": [
      "The Zen of Python, by Tim Peters\n",
      "\n",
      "Beautiful is better than ugly.\n",
      "Explicit is better than implicit.\n",
      "Simple is better than complex.\n",
      "Complex is better than complicated.\n",
      "Flat is better than nested.\n",
      "Sparse is better than dense.\n",
      "Readability counts.\n",
      "Special cases aren't special enough to break the rules.\n",
      "Although practicality beats purity.\n",
      "Errors should never pass silently.\n",
      "Unless explicitly silenced.\n",
      "In the face of ambiguity, refuse the temptation to guess.\n",
      "There should be one-- and preferably only one --obvious way to do it.\n",
      "Although that way may not be obvious at first unless you're Dutch.\n",
      "Now is better than never.\n",
      "Although never is often better than *right* now.\n",
      "If the implementation is hard to explain, it's a bad idea.\n",
      "If the implementation is easy to explain, it may be a good idea.\n",
      "Namespaces are one honking great idea -- let's do more of those!\n"
     ]
    }
   ],
   "source": [
    "import this"
   ]
  },
  {
   "cell_type": "code",
   "execution_count": null,
   "metadata": {},
   "outputs": [],
   "source": [
    "# manage-bde -on F: -pw\n",
    "# manage-bde -unlock F: -pw"
   ]
  },
  {
   "cell_type": "code",
   "execution_count": 1,
   "metadata": {},
   "outputs": [
    {
     "data": {
      "text/plain": [
       "'Hello, John!'"
      ]
     },
     "execution_count": 1,
     "metadata": {},
     "output_type": "execute_result"
    }
   ],
   "source": [
    "def greet_users(names):\n",
    "    for name in names:\n",
    "        message = f\"Hello, {name.title()}!\"\n",
    "        return message\n",
    "usernames = ['john', 'doe']\n",
    "greet_users(usernames)"
   ]
  },
  {
   "cell_type": "code",
   "execution_count": 13,
   "metadata": {},
   "outputs": [
    {
     "data": {
      "text/plain": [
       "'Hello john  Doe!'"
      ]
     },
     "execution_count": 13,
     "metadata": {},
     "output_type": "execute_result"
    }
   ],
   "source": [
    "def greet_users(fName, lName, mName=''):\n",
    "    if mName:\n",
    "        return f\"Hello {fName} {lName}!\"\n",
    "    else:\n",
    "        return f\"Hello {fName} {mName} {lName}!\"\n",
    "greet_users(\"john\", \"Doe\")"
   ]
  },
  {
   "cell_type": "code",
   "execution_count": 17,
   "metadata": {},
   "outputs": [
    {
     "name": "stdout",
     "output_type": "stream",
     "text": [
      "Hey how are you\n",
      "Where do you live at\n"
     ]
    }
   ],
   "source": [
    "def show_message(messages):\n",
    "    for message in messages:\n",
    "        print(message)\n",
    "messages = ['Hey how are you', 'Where do you live at']\n",
    "show_message(messages)\n"
   ]
  },
  {
   "cell_type": "code",
   "execution_count": 19,
   "metadata": {},
   "outputs": [
    {
     "name": "stdout",
     "output_type": "stream",
     "text": [
      "0\n",
      "1\n",
      "2\n",
      "3\n",
      "4\n"
     ]
    }
   ],
   "source": [
    "def number(num):\n",
    "    for i in num:\n",
    "        print(i)\n",
    "num = (0,1,2,3,4)\n",
    "number(num)"
   ]
  },
  {
   "cell_type": "code",
   "execution_count": 11,
   "metadata": {},
   "outputs": [
    {
     "name": "stdout",
     "output_type": "stream",
     "text": [
      "Willy is now sitting\n"
     ]
    }
   ],
   "source": [
    "class Dog:\n",
    "    def __init__(self, name, age, color) -> None:\n",
    "        self.name = name\n",
    "        self.age = age\n",
    "        self.color = color\n",
    "my_dog = Dog('Willy', 5, 'white')\n",
    "print(f\"{my_dog.name} is now sitting\")\n"
   ]
  },
  {
   "cell_type": "code",
   "execution_count": 7,
   "metadata": {},
   "outputs": [
    {
     "name": "stdout",
     "output_type": "stream",
     "text": [
      "My car's model is Audi and the color is dark\n"
     ]
    }
   ],
   "source": [
    "class Car:\n",
    "    def __init__(self, model, color) -> None:\n",
    "        self.model = model\n",
    "        self.color = color\n",
    "        print(f\"My car's model is {model.title()} and the color is {color}.\")\n",
    "my_car = Car('audi', 'dark')"
   ]
  },
  {
   "cell_type": "code",
   "execution_count": 20,
   "metadata": {},
   "outputs": [
    {
     "data": {
      "text/plain": [
       "'My names are John Doe.'"
      ]
     },
     "execution_count": 20,
     "metadata": {},
     "output_type": "execute_result"
    }
   ],
   "source": [
    "class Users: # created a class users\n",
    "    def __init__(self, first_name, last_name) -> None:\n",
    "        self.first_name = first_name\n",
    "        self.last_name = last_name\n",
    "\n",
    "    def user1(self):\n",
    "        return f\"My names are {self.first_name.title()} {self.last_name.title()}.\"\n",
    "    \n",
    "    \n",
    "username = Users('john', 'doe')\n",
    "username.user1()\n",
    " "
   ]
  },
  {
   "cell_type": "code",
   "execution_count": 34,
   "metadata": {},
   "outputs": [
    {
     "data": {
      "text/plain": [
       "'My car is 25 miles away.'"
      ]
     },
     "execution_count": 34,
     "metadata": {},
     "output_type": "execute_result"
    }
   ],
   "source": [
    "class Car:\n",
    "    def __init__(self, odometer) -> None:\n",
    "        self.odometer = odometer\n",
    "    \n",
    "    def read_odometer(self):\n",
    "        return f\"My car is {self.odometer} miles away.\"\n",
    "\n",
    "myCar = Car(25)\n",
    "myCar.read_odometer()"
   ]
  },
  {
   "cell_type": "code",
   "execution_count": 2,
   "metadata": {},
   "outputs": [
    {
     "name": "stdout",
     "output_type": "stream",
     "text": [
      "My random player is Toress\n"
     ]
    }
   ],
   "source": [
    "from random import choice \n",
    "players = ['de bryne', 'sane', 'toress', 'hazard', 'ronaldo','messi', 'kante', 'pogba']\n",
    "random_player = choice(players).title()\n",
    "print(\"My random player is\", random_player)"
   ]
  },
  {
   "cell_type": "code",
   "execution_count": 5,
   "metadata": {},
   "outputs": [
    {
     "name": "stdout",
     "output_type": "stream",
     "text": [
      "4\n"
     ]
    }
   ],
   "source": [
    "from random import randint\n",
    "class Die:\n",
    "    sides = randint(1, 6)\n",
    "    print(sides)\n",
    "d= Die()"
   ]
  },
  {
   "cell_type": "code",
   "execution_count": 61,
   "metadata": {},
   "outputs": [
    {
     "name": "stdout",
     "output_type": "stream",
     "text": [
      "[8, 'a', 3, 'e']\n"
     ]
    }
   ],
   "source": [
    "import random \n",
    "my_tuple = (0, 1, 2, 3, 4, 5, 6, 7, 8, 9, 'a', 'b', 'c', 'd', 'e')\n",
    "randomly_selected_list = random.sample(my_tuple, 4)\n",
    "print(randomly_selected_list)"
   ]
  },
  {
   "cell_type": "code",
   "execution_count": 62,
   "metadata": {},
   "outputs": [
    {
     "name": "stdout",
     "output_type": "stream",
     "text": [
      "{\n",
      " \"cells\": [\n",
      "  {\n",
      "   \"cell_type\": \"code\",\n",
      "   \"execution_count\": 1,\n",
      "   \"metadata\": {},\n",
      "   \"outputs\": [\n",
      "    {\n",
      "     \"name\": \"stdout\",\n",
      "     \"output_type\": \"stream\",\n",
      "     \"text\": [\n",
      "      \"The Zen of Python, by Tim Peters\\n\",\n",
      "      \"\\n\",\n",
      "      \"Beautiful is better than ugly.\\n\",\n",
      "      \"Explicit is better than implicit.\\n\",\n",
      "      \"Simple is better than complex.\\n\",\n",
      "      \"Complex is better than complicated.\\n\",\n",
      "      \"Flat is better than nested.\\n\",\n",
      "      \"Sparse is better than dense.\\n\",\n",
      "      \"Readability counts.\\n\",\n",
      "      \"Special cases aren't special enough to break the rules.\\n\",\n",
      "      \"Although practicality beats purity.\\n\",\n",
      "      \"Errors should never pass silently.\\n\",\n",
      "      \"Unless explicitly silenced.\\n\",\n",
      "      \"In the face of ambiguity, refuse the temptation to guess.\\n\",\n",
      "      \"There should be one-- and preferably only one --obvious way to do it.\\n\",\n",
      "      \"Although that way may not be obvious at first unless you're Dutch.\\n\",\n",
      "      \"Now is better than never.\\n\",\n",
      "      \"Although never is often better than *right* now.\\n\",\n",
      "      \"If the implementation is hard to explain, it's a bad idea.\\n\",\n",
      "      \"If the implementation is easy to explain, it may be a good idea.\\n\",\n",
      "      \"Namespaces are one honking great idea -- let's do more of those!\\n\"\n",
      "     ]\n",
      "    }\n",
      "   ],\n",
      "   \"source\": [\n",
      "    \"import this\"\n",
      "   ]\n",
      "  },\n",
      "  {\n",
      "   \"cell_type\": \"code\",\n",
      "   \"execution_count\": null,\n",
      "   \"metadata\": {},\n",
      "   \"outputs\": [],\n",
      "   \"source\": [\n",
      "    \"# manage-bde -on F: -pw\\n\",\n",
      "    \"# manage-bde -unlock F: -pw\"\n",
      "   ]\n",
      "  },\n",
      "  {\n",
      "   \"cell_type\": \"code\",\n",
      "   \"execution_count\": 1,\n",
      "   \"metadata\": {},\n",
      "   \"outputs\": [\n",
      "    {\n",
      "     \"data\": {\n",
      "      \"text/plain\": [\n",
      "       \"'Hello, John!'\"\n",
      "      ]\n",
      "     },\n",
      "     \"execution_count\": 1,\n",
      "     \"metadata\": {},\n",
      "     \"output_type\": \"execute_result\"\n",
      "    }\n",
      "   ],\n",
      "   \"source\": [\n",
      "    \"def greet_users(names):\\n\",\n",
      "    \"    for name in names:\\n\",\n",
      "    \"        message = f\\\"Hello, {name.title()}!\\\"\\n\",\n",
      "    \"        return message\\n\",\n",
      "    \"usernames = ['john', 'doe']\\n\",\n",
      "    \"greet_users(usernames)\"\n",
      "   ]\n",
      "  },\n",
      "  {\n",
      "   \"cell_type\": \"code\",\n",
      "   \"execution_count\": 13,\n",
      "   \"metadata\": {},\n",
      "   \"outputs\": [\n",
      "    {\n",
      "     \"data\": {\n",
      "      \"text/plain\": [\n",
      "       \"'Hello john  Doe!'\"\n",
      "      ]\n",
      "     },\n",
      "     \"execution_count\": 13,\n",
      "     \"metadata\": {},\n",
      "     \"output_type\": \"execute_result\"\n",
      "    }\n",
      "   ],\n",
      "   \"source\": [\n",
      "    \"def greet_users(fName, lName, mName=''):\\n\",\n",
      "    \"    if mName:\\n\",\n",
      "    \"        return f\\\"Hello {fName} {lName}!\\\"\\n\",\n",
      "    \"    else:\\n\",\n",
      "    \"        return f\\\"Hello {fName} {mName} {lName}!\\\"\\n\",\n",
      "    \"greet_users(\\\"john\\\", \\\"Doe\\\")\"\n",
      "   ]\n",
      "  },\n",
      "  {\n",
      "   \"cell_type\": \"code\",\n",
      "   \"execution_count\": 17,\n",
      "   \"metadata\": {},\n",
      "   \"outputs\": [\n",
      "    {\n",
      "     \"name\": \"stdout\",\n",
      "     \"output_type\": \"stream\",\n",
      "     \"text\": [\n",
      "      \"Hey how are you\\n\",\n",
      "      \"Where do you live at\\n\"\n",
      "     ]\n",
      "    }\n",
      "   ],\n",
      "   \"source\": [\n",
      "    \"def show_message(messages):\\n\",\n",
      "    \"    for message in messages:\\n\",\n",
      "    \"        print(message)\\n\",\n",
      "    \"messages = ['Hey how are you', 'Where do you live at']\\n\",\n",
      "    \"show_message(messages)\\n\"\n",
      "   ]\n",
      "  },\n",
      "  {\n",
      "   \"cell_type\": \"code\",\n",
      "   \"execution_count\": 19,\n",
      "   \"metadata\": {},\n",
      "   \"outputs\": [\n",
      "    {\n",
      "     \"name\": \"stdout\",\n",
      "     \"output_type\": \"stream\",\n",
      "     \"text\": [\n",
      "      \"0\\n\",\n",
      "      \"1\\n\",\n",
      "      \"2\\n\",\n",
      "      \"3\\n\",\n",
      "      \"4\\n\"\n",
      "     ]\n",
      "    }\n",
      "   ],\n",
      "   \"source\": [\n",
      "    \"def number(num):\\n\",\n",
      "    \"    for i in num:\\n\",\n",
      "    \"        print(i)\\n\",\n",
      "    \"num = (0,1,2,3,4)\\n\",\n",
      "    \"number(num)\"\n",
      "   ]\n",
      "  },\n",
      "  {\n",
      "   \"cell_type\": \"code\",\n",
      "   \"execution_count\": 11,\n",
      "   \"metadata\": {},\n",
      "   \"outputs\": [\n",
      "    {\n",
      "     \"name\": \"stdout\",\n",
      "     \"output_type\": \"stream\",\n",
      "     \"text\": [\n",
      "      \"Willy is now sitting\\n\"\n",
      "     ]\n",
      "    }\n",
      "   ],\n",
      "   \"source\": [\n",
      "    \"class Dog:\\n\",\n",
      "    \"    def __init__(self, name, age, color) -> None:\\n\",\n",
      "    \"        self.name = name\\n\",\n",
      "    \"        self.age = age\\n\",\n",
      "    \"        self.color = color\\n\",\n",
      "    \"my_dog = Dog('Willy', 5, 'white')\\n\",\n",
      "    \"print(f\\\"{my_dog.name} is now sitting\\\")\\n\"\n",
      "   ]\n",
      "  },\n",
      "  {\n",
      "   \"cell_type\": \"code\",\n",
      "   \"execution_count\": 7,\n",
      "   \"metadata\": {},\n",
      "   \"outputs\": [\n",
      "    {\n",
      "     \"name\": \"stdout\",\n",
      "     \"output_type\": \"stream\",\n",
      "     \"text\": [\n",
      "      \"My car's model is Audi and the color is dark\\n\"\n",
      "     ]\n",
      "    }\n",
      "   ],\n",
      "   \"source\": [\n",
      "    \"class Car:\\n\",\n",
      "    \"    def __init__(self, model, color) -> None:\\n\",\n",
      "    \"        self.model = model\\n\",\n",
      "    \"        self.color = color\\n\",\n",
      "    \"        print(f\\\"My car's model is {model.title()} and the color is {color}.\\\")\\n\",\n",
      "    \"my_car = Car('audi', 'dark')\"\n",
      "   ]\n",
      "  },\n",
      "  {\n",
      "   \"cell_type\": \"code\",\n",
      "   \"execution_count\": 20,\n",
      "   \"metadata\": {},\n",
      "   \"outputs\": [\n",
      "    {\n",
      "     \"data\": {\n",
      "      \"text/plain\": [\n",
      "       \"'My names are John Doe.'\"\n",
      "      ]\n",
      "     },\n",
      "     \"execution_count\": 20,\n",
      "     \"metadata\": {},\n",
      "     \"output_type\": \"execute_result\"\n",
      "    }\n",
      "   ],\n",
      "   \"source\": [\n",
      "    \"class Users: # created a class users\\n\",\n",
      "    \"    def __init__(self, first_name, last_name) -> None:\\n\",\n",
      "    \"        self.first_name = first_name\\n\",\n",
      "    \"        self.last_name = last_name\\n\",\n",
      "    \"\\n\",\n",
      "    \"    def user1(self):\\n\",\n",
      "    \"        return f\\\"My names are {self.first_name.title()} {self.last_name.title()}.\\\"\\n\",\n",
      "    \"    \\n\",\n",
      "    \"    \\n\",\n",
      "    \"username = Users('john', 'doe')\\n\",\n",
      "    \"username.user1()\\n\",\n",
      "    \" \"\n",
      "   ]\n",
      "  },\n",
      "  {\n",
      "   \"cell_type\": \"code\",\n",
      "   \"execution_count\": 34,\n",
      "   \"metadata\": {},\n",
      "   \"outputs\": [\n",
      "    {\n",
      "     \"data\": {\n",
      "      \"text/plain\": [\n",
      "       \"'My car is 25 miles away.'\"\n",
      "      ]\n",
      "     },\n",
      "     \"execution_count\": 34,\n",
      "     \"metadata\": {},\n",
      "     \"output_type\": \"execute_result\"\n",
      "    }\n",
      "   ],\n",
      "   \"source\": [\n",
      "    \"class Car:\\n\",\n",
      "    \"    def __init__(self, odometer) -> None:\\n\",\n",
      "    \"        self.odometer = odometer\\n\",\n",
      "    \"    \\n\",\n",
      "    \"    def read_odometer(self):\\n\",\n",
      "    \"        return f\\\"My car is {self.odometer} miles away.\\\"\\n\",\n",
      "    \"\\n\",\n",
      "    \"myCar = Car(25)\\n\",\n",
      "    \"myCar.read_odometer()\"\n",
      "   ]\n",
      "  },\n",
      "  {\n",
      "   \"cell_type\": \"code\",\n",
      "   \"execution_count\": 2,\n",
      "   \"metadata\": {},\n",
      "   \"outputs\": [\n",
      "    {\n",
      "     \"name\": \"stdout\",\n",
      "     \"output_type\": \"stream\",\n",
      "     \"text\": [\n",
      "      \"My random player is Toress\\n\"\n",
      "     ]\n",
      "    }\n",
      "   ],\n",
      "   \"source\": [\n",
      "    \"from random import choice \\n\",\n",
      "    \"players = ['de bryne', 'sane', 'toress', 'hazard', 'ronaldo','messi', 'kante', 'pogba']\\n\",\n",
      "    \"random_player = choice(players).title()\\n\",\n",
      "    \"print(\\\"My random player is\\\", random_player)\"\n",
      "   ]\n",
      "  },\n",
      "  {\n",
      "   \"cell_type\": \"code\",\n",
      "   \"execution_count\": 5,\n",
      "   \"metadata\": {},\n",
      "   \"outputs\": [\n",
      "    {\n",
      "     \"name\": \"stdout\",\n",
      "     \"output_type\": \"stream\",\n",
      "     \"text\": [\n",
      "      \"4\\n\"\n",
      "     ]\n",
      "    }\n",
      "   ],\n",
      "   \"source\": [\n",
      "    \"from random import randint\\n\",\n",
      "    \"class Die:\\n\",\n",
      "    \"    sides = randint(1, 6)\\n\",\n",
      "    \"    print(sides)\\n\",\n",
      "    \"d= Die()\"\n",
      "   ]\n",
      "  },\n",
      "  {\n",
      "   \"cell_type\": \"code\",\n",
      "   \"execution_count\": 61,\n",
      "   \"metadata\": {},\n",
      "   \"outputs\": [\n",
      "    {\n",
      "     \"name\": \"stdout\",\n",
      "     \"output_type\": \"stream\",\n",
      "     \"text\": [\n",
      "      \"[8, 'a', 3, 'e']\\n\"\n",
      "     ]\n",
      "    }\n",
      "   ],\n",
      "   \"source\": [\n",
      "    \"import random \\n\",\n",
      "    \"my_tuple = (0, 1, 2, 3, 4, 5, 6, 7, 8, 9, 'a', 'b', 'c', 'd', 'e')\\n\",\n",
      "    \"randomly_selected_list = random.sample(my_tuple, 4)\\n\",\n",
      "    \"print(randomly_selected_list)\"\n",
      "   ]\n",
      "  }\n",
      " ],\n",
      " \"metadata\": {\n",
      "  \"kernelspec\": {\n",
      "   \"display_name\": \"Python 3\",\n",
      "   \"language\": \"python\",\n",
      "   \"name\": \"python3\"\n",
      "  },\n",
      "  \"language_info\": {\n",
      "   \"codemirror_mode\": {\n",
      "    \"name\": \"ipython\",\n",
      "    \"version\": 3\n",
      "   },\n",
      "   \"file_extension\": \".py\",\n",
      "   \"mimetype\": \"text/x-python\",\n",
      "   \"name\": \"python\",\n",
      "   \"nbconvert_exporter\": \"python\",\n",
      "   \"pygments_lexer\": \"ipython3\",\n",
      "   \"version\": \"3.11.3\"\n",
      "  },\n",
      "  \"orig_nbformat\": 4\n",
      " },\n",
      " \"nbformat\": 4,\n",
      " \"nbformat_minor\": 2\n",
      "}\n",
      "\n"
     ]
    }
   ],
   "source": [
    "with open('Python.ipynb') as jupyter_file:\n",
    "    print(jupyter_file.read())"
   ]
  },
  {
   "cell_type": "code",
   "execution_count": 16,
   "metadata": {},
   "outputs": [
    {
     "name": "stdout",
     "output_type": "stream",
     "text": [
      "I love programming in python coz it has several uses and applications in the real world scenario currently\n",
      " of which one of them is Data Science, Application Development(both mobile and desktop), Networking, Security etc.\n",
      "221\n"
     ]
    }
   ],
   "source": [
    "file = 'learning_python.txt'\n",
    "\n",
    "with open(file) as myFile:\n",
    "    fileContent = myFile.read()\n",
    "    replaced_fileContent = fileContent.replace('Mojo', 'Python')\n",
    "print(replaced_fileContent)\n",
    "print(len(replaced_fileContent))"
   ]
  },
  {
   "cell_type": "code",
   "execution_count": 9,
   "metadata": {},
   "outputs": [],
   "source": [
    "file = 'learning_python.txt'\n",
    "with open(file, 'w') as fileObject:\n",
    "    written_fileObject = fileObject.write(\"I love programming in python coz it has several uses and applications in the real world scenario currently of which one of them is Data Science, Application Development(both mobile and desktop), Networking, Security etc.\")"
   ]
  }
 ],
 "metadata": {
  "kernelspec": {
   "display_name": "Python 3",
   "language": "python",
   "name": "python3"
  },
  "language_info": {
   "codemirror_mode": {
    "name": "ipython",
    "version": 3
   },
   "file_extension": ".py",
   "mimetype": "text/x-python",
   "name": "python",
   "nbconvert_exporter": "python",
   "pygments_lexer": "ipython3",
   "version": "3.11.3"
  },
  "orig_nbformat": 4
 },
 "nbformat": 4,
 "nbformat_minor": 2
}
